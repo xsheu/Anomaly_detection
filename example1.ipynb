{
 "cells": [
  {
   "cell_type": "code",
   "execution_count": 2,
   "id": "d3610bdf-acca-4832-8187-72da1d5d4607",
   "metadata": {},
   "outputs": [],
   "source": [
    "# Conformal Prediction Example1"
   ]
  },
  {
   "cell_type": "code",
   "execution_count": 3,
   "id": "011a1d12-1ce8-4783-9917-41c05e8319da",
   "metadata": {},
   "outputs": [],
   "source": [
    "import pandas as pd\n",
    "import numpy as np\n",
    "import seaborn as sns\n",
    "import matplotlib.pyplot as plt\n",
    "import sklearn\n",
    "from sklearn.model_selection import train_test_split\n",
    "from sklearn.naive_bayes import GaussianNB\n",
    "from sklearn.preprocessing import StandardScaler\n",
    "import openpyxl\n",
    "from sklearn.metrics import accuracy_score, confusion_matrix, roc_auc_score, roc_curve\n",
    "from sklearn.metrics import roc_curve, auc"
   ]
  },
  {
   "cell_type": "code",
   "execution_count": 4,
   "id": "d97b596a-f73d-4ce6-b4d0-6ec16c207d57",
   "metadata": {},
   "outputs": [],
   "source": [
    "# Read input data"
   ]
  },
  {
   "cell_type": "code",
   "execution_count": 5,
   "id": "fae20318-66b4-4aca-9c5a-0c4966a4d9e2",
   "metadata": {},
   "outputs": [
    {
     "name": "stdout",
     "output_type": "stream",
     "text": [
      "   Yield  Current  Class\n",
      "0   0.00    15.63      0\n",
      "1   0.00    16.60      0\n",
      "2   0.94    17.88      0\n",
      "3   3.15    24.59      1\n",
      "4   0.00    30.96      0\n"
     ]
    }
   ],
   "source": [
    "data =  pd.read_csv('problem6.csv')\n",
    "data.head()\n",
    "print(data.head())"
   ]
  },
  {
   "cell_type": "code",
   "execution_count": 6,
   "id": "98b9cefa-cf68-44eb-9390-7842ecf8f9b6",
   "metadata": {},
   "outputs": [
    {
     "data": {
      "text/html": [
       "<div>\n",
       "<style scoped>\n",
       "    .dataframe tbody tr th:only-of-type {\n",
       "        vertical-align: middle;\n",
       "    }\n",
       "\n",
       "    .dataframe tbody tr th {\n",
       "        vertical-align: top;\n",
       "    }\n",
       "\n",
       "    .dataframe thead th {\n",
       "        text-align: right;\n",
       "    }\n",
       "</style>\n",
       "<table border=\"1\" class=\"dataframe\">\n",
       "  <thead>\n",
       "    <tr style=\"text-align: right;\">\n",
       "      <th></th>\n",
       "      <th>Yield</th>\n",
       "      <th>Current</th>\n",
       "      <th>cType</th>\n",
       "    </tr>\n",
       "  </thead>\n",
       "  <tbody>\n",
       "    <tr>\n",
       "      <th>0</th>\n",
       "      <td>0.00</td>\n",
       "      <td>15.63</td>\n",
       "      <td>1</td>\n",
       "    </tr>\n",
       "    <tr>\n",
       "      <th>1</th>\n",
       "      <td>0.00</td>\n",
       "      <td>16.60</td>\n",
       "      <td>1</td>\n",
       "    </tr>\n",
       "    <tr>\n",
       "      <th>2</th>\n",
       "      <td>0.94</td>\n",
       "      <td>17.88</td>\n",
       "      <td>1</td>\n",
       "    </tr>\n",
       "    <tr>\n",
       "      <th>3</th>\n",
       "      <td>0.00</td>\n",
       "      <td>30.96</td>\n",
       "      <td>1</td>\n",
       "    </tr>\n",
       "    <tr>\n",
       "      <th>4</th>\n",
       "      <td>0.00</td>\n",
       "      <td>33.59</td>\n",
       "      <td>1</td>\n",
       "    </tr>\n",
       "  </tbody>\n",
       "</table>\n",
       "</div>"
      ],
      "text/plain": [
       "   Yield  Current  cType\n",
       "0   0.00    15.63      1\n",
       "1   0.00    16.60      1\n",
       "2   0.94    17.88      1\n",
       "3   0.00    30.96      1\n",
       "4   0.00    33.59      1"
      ]
     },
     "execution_count": 6,
     "metadata": {},
     "output_type": "execute_result"
    }
   ],
   "source": [
    "data1 =  pd.read_csv('problem61.csv')\n",
    "data1.head()"
   ]
  },
  {
   "cell_type": "code",
   "execution_count": 7,
   "id": "bf7def43-07e9-4ccd-9864-0533ebed22e2",
   "metadata": {},
   "outputs": [],
   "source": [
    "# 驗證是否讀取正確"
   ]
  },
  {
   "cell_type": "code",
   "execution_count": 8,
   "id": "cfb2d614-28e0-4bd0-ae94-0e36754115ff",
   "metadata": {},
   "outputs": [
    {
     "name": "stdout",
     "output_type": "stream",
     "text": [
      "      Yield   Current  Class\n",
      "0      0.00     15.63      0\n",
      "1      0.00     16.60      0\n",
      "2      0.94     17.88      0\n",
      "3      3.15     24.59      1\n",
      "4      0.00     30.96      0\n",
      "...     ...       ...    ...\n",
      "1001   1.24   4899.00      0\n",
      "1002   0.00   5936.01      0\n",
      "1003   0.00   7215.22      0\n",
      "1004   0.00   9506.86      0\n",
      "1005   0.00  10424.13      0\n",
      "\n",
      "[1006 rows x 3 columns]\n"
     ]
    }
   ],
   "source": [
    "print(data)"
   ]
  },
  {
   "cell_type": "code",
   "execution_count": 9,
   "id": "f48eb0f0-baa7-4c3a-b5b9-ba5a46846e02",
   "metadata": {},
   "outputs": [],
   "source": [
    "# 資料筆數"
   ]
  },
  {
   "cell_type": "code",
   "execution_count": 10,
   "id": "002ead68-4c68-4954-8b92-f82524fc5e75",
   "metadata": {},
   "outputs": [
    {
     "name": "stdout",
     "output_type": "stream",
     "text": [
      "1006\n"
     ]
    }
   ],
   "source": [
    "totalsample=data.shape[0]\n",
    "print(totalsample)"
   ]
  },
  {
   "cell_type": "code",
   "execution_count": 11,
   "id": "6b3ecf0f-57c7-4999-99c7-da6b5fb11acf",
   "metadata": {},
   "outputs": [],
   "source": [
    "# 資料分割"
   ]
  },
  {
   "cell_type": "code",
   "execution_count": 12,
   "id": "6d3a38d5-d214-4ed3-a859-2b1f6e3fab13",
   "metadata": {},
   "outputs": [],
   "source": [
    "X = data.iloc[:,0:2].values\n",
    "Y = data['Class'].values\n",
    "X_train,X_test,Y_train,Y_test = train_test_split(X,Y,test_size = 1/3,random_state = 0)\n",
    "X_traino=X_train\n",
    "X_testo=X_test\n",
    "Y_traino=Y_train\n",
    "Y_testo=Y_test\n"
   ]
  },
  {
   "cell_type": "code",
   "execution_count": 13,
   "id": "3fd9b16b-9c58-4581-a28b-bf1bf9c0c17c",
   "metadata": {},
   "outputs": [],
   "source": [
    "X1 = data1.iloc[:,0:2].values\n",
    "Y1 = data1['cType'].values\n",
    "X_train1,X_test1,Y_train1,Y_test1 = train_test_split(X,Y,test_size =1/3,random_state = 0)"
   ]
  },
  {
   "cell_type": "code",
   "execution_count": 14,
   "id": "7fd10991-345d-41ce-9e9c-70242c912326",
   "metadata": {},
   "outputs": [],
   "source": [
    "# 資料正規化"
   ]
  },
  {
   "cell_type": "code",
   "execution_count": 15,
   "id": "2cbf4fb7-3f73-4c2a-8d36-955d5816db52",
   "metadata": {},
   "outputs": [],
   "source": [
    "stdscaler = StandardScaler()\n",
    "X_train = stdscaler.fit_transform(X_train)\n",
    "X_test = stdscaler.transform(X_test)"
   ]
  },
  {
   "cell_type": "code",
   "execution_count": 16,
   "id": "4d34e5ca-4666-493f-b766-cb06d31baae6",
   "metadata": {},
   "outputs": [],
   "source": [
    "stdscaler = StandardScaler()\n",
    "X_train1 = stdscaler.fit_transform(X_train1)\n",
    "X_test1 = stdscaler.transform(X_test1)"
   ]
  },
  {
   "cell_type": "code",
   "execution_count": 17,
   "id": "3cbf32ba-da2f-4a5b-9d9c-b7fde22ef899",
   "metadata": {},
   "outputs": [],
   "source": [
    "#建立Naive Bayes model"
   ]
  },
  {
   "cell_type": "code",
   "execution_count": 18,
   "id": "3a7361ee-1a3d-403d-8f43-0e0bd5cd2928",
   "metadata": {},
   "outputs": [
    {
     "data": {
      "text/html": [
       "<style>#sk-container-id-1 {\n",
       "  /* Definition of color scheme common for light and dark mode */\n",
       "  --sklearn-color-text: black;\n",
       "  --sklearn-color-line: gray;\n",
       "  /* Definition of color scheme for unfitted estimators */\n",
       "  --sklearn-color-unfitted-level-0: #fff5e6;\n",
       "  --sklearn-color-unfitted-level-1: #f6e4d2;\n",
       "  --sklearn-color-unfitted-level-2: #ffe0b3;\n",
       "  --sklearn-color-unfitted-level-3: chocolate;\n",
       "  /* Definition of color scheme for fitted estimators */\n",
       "  --sklearn-color-fitted-level-0: #f0f8ff;\n",
       "  --sklearn-color-fitted-level-1: #d4ebff;\n",
       "  --sklearn-color-fitted-level-2: #b3dbfd;\n",
       "  --sklearn-color-fitted-level-3: cornflowerblue;\n",
       "\n",
       "  /* Specific color for light theme */\n",
       "  --sklearn-color-text-on-default-background: var(--sg-text-color, var(--theme-code-foreground, var(--jp-content-font-color1, black)));\n",
       "  --sklearn-color-background: var(--sg-background-color, var(--theme-background, var(--jp-layout-color0, white)));\n",
       "  --sklearn-color-border-box: var(--sg-text-color, var(--theme-code-foreground, var(--jp-content-font-color1, black)));\n",
       "  --sklearn-color-icon: #696969;\n",
       "\n",
       "  @media (prefers-color-scheme: dark) {\n",
       "    /* Redefinition of color scheme for dark theme */\n",
       "    --sklearn-color-text-on-default-background: var(--sg-text-color, var(--theme-code-foreground, var(--jp-content-font-color1, white)));\n",
       "    --sklearn-color-background: var(--sg-background-color, var(--theme-background, var(--jp-layout-color0, #111)));\n",
       "    --sklearn-color-border-box: var(--sg-text-color, var(--theme-code-foreground, var(--jp-content-font-color1, white)));\n",
       "    --sklearn-color-icon: #878787;\n",
       "  }\n",
       "}\n",
       "\n",
       "#sk-container-id-1 {\n",
       "  color: var(--sklearn-color-text);\n",
       "}\n",
       "\n",
       "#sk-container-id-1 pre {\n",
       "  padding: 0;\n",
       "}\n",
       "\n",
       "#sk-container-id-1 input.sk-hidden--visually {\n",
       "  border: 0;\n",
       "  clip: rect(1px 1px 1px 1px);\n",
       "  clip: rect(1px, 1px, 1px, 1px);\n",
       "  height: 1px;\n",
       "  margin: -1px;\n",
       "  overflow: hidden;\n",
       "  padding: 0;\n",
       "  position: absolute;\n",
       "  width: 1px;\n",
       "}\n",
       "\n",
       "#sk-container-id-1 div.sk-dashed-wrapped {\n",
       "  border: 1px dashed var(--sklearn-color-line);\n",
       "  margin: 0 0.4em 0.5em 0.4em;\n",
       "  box-sizing: border-box;\n",
       "  padding-bottom: 0.4em;\n",
       "  background-color: var(--sklearn-color-background);\n",
       "}\n",
       "\n",
       "#sk-container-id-1 div.sk-container {\n",
       "  /* jupyter's `normalize.less` sets `[hidden] { display: none; }`\n",
       "     but bootstrap.min.css set `[hidden] { display: none !important; }`\n",
       "     so we also need the `!important` here to be able to override the\n",
       "     default hidden behavior on the sphinx rendered scikit-learn.org.\n",
       "     See: https://github.com/scikit-learn/scikit-learn/issues/21755 */\n",
       "  display: inline-block !important;\n",
       "  position: relative;\n",
       "}\n",
       "\n",
       "#sk-container-id-1 div.sk-text-repr-fallback {\n",
       "  display: none;\n",
       "}\n",
       "\n",
       "div.sk-parallel-item,\n",
       "div.sk-serial,\n",
       "div.sk-item {\n",
       "  /* draw centered vertical line to link estimators */\n",
       "  background-image: linear-gradient(var(--sklearn-color-text-on-default-background), var(--sklearn-color-text-on-default-background));\n",
       "  background-size: 2px 100%;\n",
       "  background-repeat: no-repeat;\n",
       "  background-position: center center;\n",
       "}\n",
       "\n",
       "/* Parallel-specific style estimator block */\n",
       "\n",
       "#sk-container-id-1 div.sk-parallel-item::after {\n",
       "  content: \"\";\n",
       "  width: 100%;\n",
       "  border-bottom: 2px solid var(--sklearn-color-text-on-default-background);\n",
       "  flex-grow: 1;\n",
       "}\n",
       "\n",
       "#sk-container-id-1 div.sk-parallel {\n",
       "  display: flex;\n",
       "  align-items: stretch;\n",
       "  justify-content: center;\n",
       "  background-color: var(--sklearn-color-background);\n",
       "  position: relative;\n",
       "}\n",
       "\n",
       "#sk-container-id-1 div.sk-parallel-item {\n",
       "  display: flex;\n",
       "  flex-direction: column;\n",
       "}\n",
       "\n",
       "#sk-container-id-1 div.sk-parallel-item:first-child::after {\n",
       "  align-self: flex-end;\n",
       "  width: 50%;\n",
       "}\n",
       "\n",
       "#sk-container-id-1 div.sk-parallel-item:last-child::after {\n",
       "  align-self: flex-start;\n",
       "  width: 50%;\n",
       "}\n",
       "\n",
       "#sk-container-id-1 div.sk-parallel-item:only-child::after {\n",
       "  width: 0;\n",
       "}\n",
       "\n",
       "/* Serial-specific style estimator block */\n",
       "\n",
       "#sk-container-id-1 div.sk-serial {\n",
       "  display: flex;\n",
       "  flex-direction: column;\n",
       "  align-items: center;\n",
       "  background-color: var(--sklearn-color-background);\n",
       "  padding-right: 1em;\n",
       "  padding-left: 1em;\n",
       "}\n",
       "\n",
       "\n",
       "/* Toggleable style: style used for estimator/Pipeline/ColumnTransformer box that is\n",
       "clickable and can be expanded/collapsed.\n",
       "- Pipeline and ColumnTransformer use this feature and define the default style\n",
       "- Estimators will overwrite some part of the style using the `sk-estimator` class\n",
       "*/\n",
       "\n",
       "/* Pipeline and ColumnTransformer style (default) */\n",
       "\n",
       "#sk-container-id-1 div.sk-toggleable {\n",
       "  /* Default theme specific background. It is overwritten whether we have a\n",
       "  specific estimator or a Pipeline/ColumnTransformer */\n",
       "  background-color: var(--sklearn-color-background);\n",
       "}\n",
       "\n",
       "/* Toggleable label */\n",
       "#sk-container-id-1 label.sk-toggleable__label {\n",
       "  cursor: pointer;\n",
       "  display: block;\n",
       "  width: 100%;\n",
       "  margin-bottom: 0;\n",
       "  padding: 0.5em;\n",
       "  box-sizing: border-box;\n",
       "  text-align: center;\n",
       "}\n",
       "\n",
       "#sk-container-id-1 label.sk-toggleable__label-arrow:before {\n",
       "  /* Arrow on the left of the label */\n",
       "  content: \"▸\";\n",
       "  float: left;\n",
       "  margin-right: 0.25em;\n",
       "  color: var(--sklearn-color-icon);\n",
       "}\n",
       "\n",
       "#sk-container-id-1 label.sk-toggleable__label-arrow:hover:before {\n",
       "  color: var(--sklearn-color-text);\n",
       "}\n",
       "\n",
       "/* Toggleable content - dropdown */\n",
       "\n",
       "#sk-container-id-1 div.sk-toggleable__content {\n",
       "  max-height: 0;\n",
       "  max-width: 0;\n",
       "  overflow: hidden;\n",
       "  text-align: left;\n",
       "  /* unfitted */\n",
       "  background-color: var(--sklearn-color-unfitted-level-0);\n",
       "}\n",
       "\n",
       "#sk-container-id-1 div.sk-toggleable__content.fitted {\n",
       "  /* fitted */\n",
       "  background-color: var(--sklearn-color-fitted-level-0);\n",
       "}\n",
       "\n",
       "#sk-container-id-1 div.sk-toggleable__content pre {\n",
       "  margin: 0.2em;\n",
       "  border-radius: 0.25em;\n",
       "  color: var(--sklearn-color-text);\n",
       "  /* unfitted */\n",
       "  background-color: var(--sklearn-color-unfitted-level-0);\n",
       "}\n",
       "\n",
       "#sk-container-id-1 div.sk-toggleable__content.fitted pre {\n",
       "  /* unfitted */\n",
       "  background-color: var(--sklearn-color-fitted-level-0);\n",
       "}\n",
       "\n",
       "#sk-container-id-1 input.sk-toggleable__control:checked~div.sk-toggleable__content {\n",
       "  /* Expand drop-down */\n",
       "  max-height: 200px;\n",
       "  max-width: 100%;\n",
       "  overflow: auto;\n",
       "}\n",
       "\n",
       "#sk-container-id-1 input.sk-toggleable__control:checked~label.sk-toggleable__label-arrow:before {\n",
       "  content: \"▾\";\n",
       "}\n",
       "\n",
       "/* Pipeline/ColumnTransformer-specific style */\n",
       "\n",
       "#sk-container-id-1 div.sk-label input.sk-toggleable__control:checked~label.sk-toggleable__label {\n",
       "  color: var(--sklearn-color-text);\n",
       "  background-color: var(--sklearn-color-unfitted-level-2);\n",
       "}\n",
       "\n",
       "#sk-container-id-1 div.sk-label.fitted input.sk-toggleable__control:checked~label.sk-toggleable__label {\n",
       "  background-color: var(--sklearn-color-fitted-level-2);\n",
       "}\n",
       "\n",
       "/* Estimator-specific style */\n",
       "\n",
       "/* Colorize estimator box */\n",
       "#sk-container-id-1 div.sk-estimator input.sk-toggleable__control:checked~label.sk-toggleable__label {\n",
       "  /* unfitted */\n",
       "  background-color: var(--sklearn-color-unfitted-level-2);\n",
       "}\n",
       "\n",
       "#sk-container-id-1 div.sk-estimator.fitted input.sk-toggleable__control:checked~label.sk-toggleable__label {\n",
       "  /* fitted */\n",
       "  background-color: var(--sklearn-color-fitted-level-2);\n",
       "}\n",
       "\n",
       "#sk-container-id-1 div.sk-label label.sk-toggleable__label,\n",
       "#sk-container-id-1 div.sk-label label {\n",
       "  /* The background is the default theme color */\n",
       "  color: var(--sklearn-color-text-on-default-background);\n",
       "}\n",
       "\n",
       "/* On hover, darken the color of the background */\n",
       "#sk-container-id-1 div.sk-label:hover label.sk-toggleable__label {\n",
       "  color: var(--sklearn-color-text);\n",
       "  background-color: var(--sklearn-color-unfitted-level-2);\n",
       "}\n",
       "\n",
       "/* Label box, darken color on hover, fitted */\n",
       "#sk-container-id-1 div.sk-label.fitted:hover label.sk-toggleable__label.fitted {\n",
       "  color: var(--sklearn-color-text);\n",
       "  background-color: var(--sklearn-color-fitted-level-2);\n",
       "}\n",
       "\n",
       "/* Estimator label */\n",
       "\n",
       "#sk-container-id-1 div.sk-label label {\n",
       "  font-family: monospace;\n",
       "  font-weight: bold;\n",
       "  display: inline-block;\n",
       "  line-height: 1.2em;\n",
       "}\n",
       "\n",
       "#sk-container-id-1 div.sk-label-container {\n",
       "  text-align: center;\n",
       "}\n",
       "\n",
       "/* Estimator-specific */\n",
       "#sk-container-id-1 div.sk-estimator {\n",
       "  font-family: monospace;\n",
       "  border: 1px dotted var(--sklearn-color-border-box);\n",
       "  border-radius: 0.25em;\n",
       "  box-sizing: border-box;\n",
       "  margin-bottom: 0.5em;\n",
       "  /* unfitted */\n",
       "  background-color: var(--sklearn-color-unfitted-level-0);\n",
       "}\n",
       "\n",
       "#sk-container-id-1 div.sk-estimator.fitted {\n",
       "  /* fitted */\n",
       "  background-color: var(--sklearn-color-fitted-level-0);\n",
       "}\n",
       "\n",
       "/* on hover */\n",
       "#sk-container-id-1 div.sk-estimator:hover {\n",
       "  /* unfitted */\n",
       "  background-color: var(--sklearn-color-unfitted-level-2);\n",
       "}\n",
       "\n",
       "#sk-container-id-1 div.sk-estimator.fitted:hover {\n",
       "  /* fitted */\n",
       "  background-color: var(--sklearn-color-fitted-level-2);\n",
       "}\n",
       "\n",
       "/* Specification for estimator info (e.g. \"i\" and \"?\") */\n",
       "\n",
       "/* Common style for \"i\" and \"?\" */\n",
       "\n",
       ".sk-estimator-doc-link,\n",
       "a:link.sk-estimator-doc-link,\n",
       "a:visited.sk-estimator-doc-link {\n",
       "  float: right;\n",
       "  font-size: smaller;\n",
       "  line-height: 1em;\n",
       "  font-family: monospace;\n",
       "  background-color: var(--sklearn-color-background);\n",
       "  border-radius: 1em;\n",
       "  height: 1em;\n",
       "  width: 1em;\n",
       "  text-decoration: none !important;\n",
       "  margin-left: 1ex;\n",
       "  /* unfitted */\n",
       "  border: var(--sklearn-color-unfitted-level-1) 1pt solid;\n",
       "  color: var(--sklearn-color-unfitted-level-1);\n",
       "}\n",
       "\n",
       ".sk-estimator-doc-link.fitted,\n",
       "a:link.sk-estimator-doc-link.fitted,\n",
       "a:visited.sk-estimator-doc-link.fitted {\n",
       "  /* fitted */\n",
       "  border: var(--sklearn-color-fitted-level-1) 1pt solid;\n",
       "  color: var(--sklearn-color-fitted-level-1);\n",
       "}\n",
       "\n",
       "/* On hover */\n",
       "div.sk-estimator:hover .sk-estimator-doc-link:hover,\n",
       ".sk-estimator-doc-link:hover,\n",
       "div.sk-label-container:hover .sk-estimator-doc-link:hover,\n",
       ".sk-estimator-doc-link:hover {\n",
       "  /* unfitted */\n",
       "  background-color: var(--sklearn-color-unfitted-level-3);\n",
       "  color: var(--sklearn-color-background);\n",
       "  text-decoration: none;\n",
       "}\n",
       "\n",
       "div.sk-estimator.fitted:hover .sk-estimator-doc-link.fitted:hover,\n",
       ".sk-estimator-doc-link.fitted:hover,\n",
       "div.sk-label-container:hover .sk-estimator-doc-link.fitted:hover,\n",
       ".sk-estimator-doc-link.fitted:hover {\n",
       "  /* fitted */\n",
       "  background-color: var(--sklearn-color-fitted-level-3);\n",
       "  color: var(--sklearn-color-background);\n",
       "  text-decoration: none;\n",
       "}\n",
       "\n",
       "/* Span, style for the box shown on hovering the info icon */\n",
       ".sk-estimator-doc-link span {\n",
       "  display: none;\n",
       "  z-index: 9999;\n",
       "  position: relative;\n",
       "  font-weight: normal;\n",
       "  right: .2ex;\n",
       "  padding: .5ex;\n",
       "  margin: .5ex;\n",
       "  width: min-content;\n",
       "  min-width: 20ex;\n",
       "  max-width: 50ex;\n",
       "  color: var(--sklearn-color-text);\n",
       "  box-shadow: 2pt 2pt 4pt #999;\n",
       "  /* unfitted */\n",
       "  background: var(--sklearn-color-unfitted-level-0);\n",
       "  border: .5pt solid var(--sklearn-color-unfitted-level-3);\n",
       "}\n",
       "\n",
       ".sk-estimator-doc-link.fitted span {\n",
       "  /* fitted */\n",
       "  background: var(--sklearn-color-fitted-level-0);\n",
       "  border: var(--sklearn-color-fitted-level-3);\n",
       "}\n",
       "\n",
       ".sk-estimator-doc-link:hover span {\n",
       "  display: block;\n",
       "}\n",
       "\n",
       "/* \"?\"-specific style due to the `<a>` HTML tag */\n",
       "\n",
       "#sk-container-id-1 a.estimator_doc_link {\n",
       "  float: right;\n",
       "  font-size: 1rem;\n",
       "  line-height: 1em;\n",
       "  font-family: monospace;\n",
       "  background-color: var(--sklearn-color-background);\n",
       "  border-radius: 1rem;\n",
       "  height: 1rem;\n",
       "  width: 1rem;\n",
       "  text-decoration: none;\n",
       "  /* unfitted */\n",
       "  color: var(--sklearn-color-unfitted-level-1);\n",
       "  border: var(--sklearn-color-unfitted-level-1) 1pt solid;\n",
       "}\n",
       "\n",
       "#sk-container-id-1 a.estimator_doc_link.fitted {\n",
       "  /* fitted */\n",
       "  border: var(--sklearn-color-fitted-level-1) 1pt solid;\n",
       "  color: var(--sklearn-color-fitted-level-1);\n",
       "}\n",
       "\n",
       "/* On hover */\n",
       "#sk-container-id-1 a.estimator_doc_link:hover {\n",
       "  /* unfitted */\n",
       "  background-color: var(--sklearn-color-unfitted-level-3);\n",
       "  color: var(--sklearn-color-background);\n",
       "  text-decoration: none;\n",
       "}\n",
       "\n",
       "#sk-container-id-1 a.estimator_doc_link.fitted:hover {\n",
       "  /* fitted */\n",
       "  background-color: var(--sklearn-color-fitted-level-3);\n",
       "}\n",
       "</style><div id=\"sk-container-id-1\" class=\"sk-top-container\"><div class=\"sk-text-repr-fallback\"><pre>GaussianNB()</pre><b>In a Jupyter environment, please rerun this cell to show the HTML representation or trust the notebook. <br />On GitHub, the HTML representation is unable to render, please try loading this page with nbviewer.org.</b></div><div class=\"sk-container\" hidden><div class=\"sk-item\"><div class=\"sk-estimator fitted sk-toggleable\"><input class=\"sk-toggleable__control sk-hidden--visually\" id=\"sk-estimator-id-1\" type=\"checkbox\" checked><label for=\"sk-estimator-id-1\" class=\"sk-toggleable__label fitted sk-toggleable__label-arrow fitted\">&nbsp;&nbsp;GaussianNB<a class=\"sk-estimator-doc-link fitted\" rel=\"noreferrer\" target=\"_blank\" href=\"https://scikit-learn.org/1.4/modules/generated/sklearn.naive_bayes.GaussianNB.html\">?<span>Documentation for GaussianNB</span></a><span class=\"sk-estimator-doc-link fitted\">i<span>Fitted</span></span></label><div class=\"sk-toggleable__content fitted\"><pre>GaussianNB()</pre></div> </div></div></div></div>"
      ],
      "text/plain": [
       "GaussianNB()"
      ]
     },
     "execution_count": 18,
     "metadata": {},
     "output_type": "execute_result"
    }
   ],
   "source": [
    "clf = GaussianNB()\n",
    "clf.fit(X_train,Y_train)"
   ]
  },
  {
   "cell_type": "code",
   "execution_count": 19,
   "id": "f5ad4f89-dfd1-4140-9217-24289738d3c5",
   "metadata": {},
   "outputs": [
    {
     "name": "stdout",
     "output_type": "stream",
     "text": [
      "[[100  29]\n",
      " [  2 205]]\n"
     ]
    }
   ],
   "source": [
    "y_pred = clf.predict(X_test)\n",
    "from sklearn.metrics import confusion_matrix,accuracy_score\n",
    "cm = confusion_matrix(Y_test, y_pred)\n",
    "print(cm)"
   ]
  },
  {
   "cell_type": "code",
   "execution_count": 20,
   "id": "92120e09-dd34-471b-882b-f5bfd9faa928",
   "metadata": {},
   "outputs": [],
   "source": [
    "y_predproba=clf.predict_proba(X_test)\n",
    "y_predprobatrain=clf.predict_proba(X_train)"
   ]
  },
  {
   "cell_type": "code",
   "execution_count": 21,
   "id": "78b13133-cfe6-46ec-ae9d-260b12833d8a",
   "metadata": {},
   "outputs": [
    {
     "name": "stdout",
     "output_type": "stream",
     "text": [
      "Accuracy score: 0.9077380952380952\n"
     ]
    }
   ],
   "source": [
    "print('Accuracy score:',accuracy_score(Y_test,y_pred))"
   ]
  },
  {
   "cell_type": "code",
   "execution_count": 22,
   "id": "9d64c2f0-3a88-4098-9487-370f282f6f5d",
   "metadata": {},
   "outputs": [
    {
     "name": "stdout",
     "output_type": "stream",
     "text": [
      "0.9077380952380952 accuracy\n",
      "0.8760683760683761 precision\n",
      "\n",
      "0.9903381642512077 recall\n",
      "\n",
      "0.9297052154195011 f1 score\n",
      "\n",
      "0.9946447964648167 AUC\n"
     ]
    },
    {
     "data": {
      "image/png": "[encoded data removed]",
      "text/plain": [
       "<Figure size 640x480 with 1 Axes>"
      ]
     },
     "metadata": {},
     "output_type": "display_data"
    }
   ],
   "source": [
    "from sklearn.metrics import confusion_matrix,accuracy_score,precision_score,recall_score,f1_score\n",
    "\n",
    "false_positive_rate, true_positive_rate, thresholds = roc_curve(Y_test, y_predproba[:,1])\n",
    "\n",
    "df = pd.DataFrame({'Threshold': thresholds, \n",
    "              'TPR': true_positive_rate, \n",
    "              'FPR':false_positive_rate\n",
    "             })\n",
    "df.to_csv(\"roc2.csv\")\n",
    "plt.ylabel('True Positive Rate')\n",
    "plt.xlabel('False Positive Rate')\n",
    "plt.title('ROC')\n",
    "plt.plot(false_positive_rate, true_positive_rate)\n",
    "print(accuracy_score(Y_test,y_pred),\"accuracy\")\n",
    "print(precision_score(Y_test,y_pred),\"precision\")\n",
    "print()\n",
    "print(recall_score(Y_test,y_pred),\"recall\")\n",
    "print()\n",
    "print(f1_score(Y_test,y_pred),\"f1 score\")\n",
    "print()\n",
    "from sklearn.metrics import roc_curve, auc\n",
    "roc_auc = auc(false_positive_rate, true_positive_rate)\n",
    "print(roc_auc,\"AUC\")"
   ]
  },
  {
   "cell_type": "code",
   "execution_count": 23,
   "id": "96343347-3d05-49cd-ac99-ca82d6eee87b",
   "metadata": {},
   "outputs": [
    {
     "name": "stdout",
     "output_type": "stream",
     "text": [
      "0.3856858846918489\n",
      "0.614314115308151\n"
     ]
    }
   ],
   "source": [
    "df1=data[data.Class==0]\n",
    "class1evidence=df1.shape[0]/totalsample\n",
    "print(class1evidence)\n",
    "df2=data[data.Class==1]\n",
    "class2evidence=df2.shape[0]/totalsample\n",
    "print(class2evidence)"
   ]
  },
  {
   "cell_type": "code",
   "execution_count": 24,
   "id": "08e84436-c8aa-4f8d-97ad-94012892658f",
   "metadata": {},
   "outputs": [],
   "source": [
    "import openpyxl\n",
    "wb=openpyxl.Workbook()\n",
    "s1=wb.active\n",
    "s1['A1']='Yield'\n",
    "s1['B1']='Current'\n",
    "s1['C1']='MP'\n",
    "wb.save('output.xlsx')"
   ]
  },
  {
   "cell_type": "code",
   "execution_count": 25,
   "id": "8e600616-0715-43a1-a9d8-05fec7151fd6",
   "metadata": {},
   "outputs": [],
   "source": [
    "traintotal=X_traino.shape[0]\n",
    "yp=[]\n",
    "xp=[]\n",
    "zp=[]\n",
    "mp=[]\n",
    "px=[]\n",
    "py=[]\n",
    "workbook=openpyxl.load_workbook('output.xlsx')\n",
    "sheet=workbook.active\n",
    "\n",
    "for i in range(traintotal):\n",
    "    if(Y_traino[i]==0):\n",
    "        yp.append(y_predprobatrain[i,0])\n",
    "        xp.append(X_traino[i,:])\n",
    "        \n",
    "testtotal=X_testo.shape[0]\n",
    "\n",
    "for i in range(testtotal):\n",
    "    if(Y_testo[i]==0):\n",
    "        yp.append(y_predproba[i,0])\n",
    "        xp.append(X_testo[i,:])\n",
    "        \n",
    "df1=data[data.Class==0]\n",
    "\n",
    "for k in range(df1.shape[0]):\n",
    "    zp.append(yp[k]*class1evidence)\n",
    "    mp.append(0)\n",
    "\n",
    "for i in range(df1.shape[0]):\n",
    "    zz=0\n",
    "    for j in range(df1.shape[0]):\n",
    "        if(zp[i]>=zp[j]):\n",
    "            zz=zz+1\n",
    "    mp[i]=zz/df1.shape[0]\n",
    "zsup=max(zp)\n",
    "j=2\n",
    "for k in range(len(yp)):\n",
    "    if(mp[k]>0.5):\n",
    "        sheet.cell(j,1).value=xp[k][0]\n",
    "        sheet.cell(j,2).value=xp[k][1]\n",
    "        sheet.cell(j,3).value=mp[k]\n",
    "        j+=1\n",
    "workbook.save('output.xlsx')"
   ]
  },
  {
   "cell_type": "code",
   "execution_count": 26,
   "id": "59b75836-1ddb-4a15-8103-61a04ae30073",
   "metadata": {},
   "outputs": [],
   "source": [
    "from sklearn.neighbors import KNeighborsClassifier\n",
    "knn = KNeighborsClassifier()\n",
    "knn.fit(X_train,Y_train)\n",
    "y_pred3=knn.predict(X_test)"
   ]
  },
  {
   "cell_type": "code",
   "execution_count": 27,
   "id": "ffd8ddd9-b9f4-4430-a58f-ef7a8eb8ddd6",
   "metadata": {},
   "outputs": [
    {
     "name": "stdout",
     "output_type": "stream",
     "text": [
      "[0.         0.02325581 1.        ]\n",
      "[0. 1. 1.]\n",
      "[inf  1.  0.]\n",
      "0.9883720930232558\n",
      "[[126   3]\n",
      " [  0 207]]\n"
     ]
    }
   ],
   "source": [
    "fpr3, tpr3, thresholds3 = roc_curve(Y_test,y_pred3)\n",
    "auc_score7=roc_auc_score(Y_test, y_pred3)\n",
    "print(fpr3)\n",
    "print(tpr3)\n",
    "print(thresholds3)\n",
    "print(auc_score7)\n",
    "y_pred3 = knn.predict(X_test)\n",
    "from sklearn.metrics import confusion_matrix,accuracy_score\n",
    "cm3 = confusion_matrix(Y_test, y_pred3)\n",
    "print(cm3)"
   ]
  },
  {
   "cell_type": "code",
   "execution_count": 29,
   "id": "1bd9fd9a-9977-4bcc-b6d7-28230e4ed5b7",
   "metadata": {},
   "outputs": [
    {
     "data": {
      "text/plain": [
       "[<matplotlib.lines.Line2D at 0x30050a990>]"
      ]
     },
     "execution_count": 29,
     "metadata": {},
     "output_type": "execute_result"
    },
    {
     "data": {
      "image/png": "[encoded data removed]",
      "text/plain": [
       "<Figure size 640x480 with 1 Axes>"
      ]
     },
     "metadata": {},
     "output_type": "display_data"
    }
   ],
   "source": [
    "y_predproba12=knn.predict_proba(X_test1)\n",
    "false_positive_rate12, true_positive_rate12, thresholds12 = roc_curve(Y_test1, y_predproba12[:,1])\n",
    "df6 = pd.DataFrame({'Threshold': thresholds12, \n",
    "              'TPR': true_positive_rate12, \n",
    "              'FPR':false_positive_rate12\n",
    "             })\n",
    "df6.to_csv(\"roc12.csv\")\n",
    "plt.ylabel('True Positive Rate')\n",
    "plt.xlabel('False Positive Rate')\n",
    "plt.title('ROC')\n",
    "plt.plot(false_positive_rate12, true_positive_rate12)"
   ]
  },
  {
   "cell_type": "code",
   "execution_count": null,
   "id": "32c29eaa-f022-4c3b-9f8e-3f00dc474ebc",
   "metadata": {},
   "outputs": [],
   "source": [
    "from sklearn.ensemble import ExtraTreesClassifier"
   ]
  },
  {
   "cell_type": "code",
   "execution_count": null,
   "id": "dff6e0d2-97ef-4cbb-ab70-fe3b66d55d77",
   "metadata": {},
   "outputs": [],
   "source": [
    "from sklearn.linear_model import LogisticRegression\n",
    "logistic_classifier = LogisticRegression()\n",
    "logistic_classifier.fit(X_train1, Y_train1)\n",
    "y_pred7 = logistic_classifier.predict(X_test1)\n",
    "print(confusion_matrix(Y_test1,y_pred7))\n",
    "from sklearn.metrics import roc_curve, auc\n",
    "fpr31, tpr31, thresholds31 = roc_curve(Y_test1,y_pred7)\n",
    "auc_score8=roc_auc_score(Y_test1, y_pred7)\n",
    "print(fpr31)\n",
    "print(tpr31)\n",
    "print(thresholds31)\n",
    "print(auc_score8)\n",
    "from sklearn.metrics import confusion_matrix,accuracy_score\n",
    "cm31 = confusion_matrix(Y_test1, y_pred7)\n",
    "print(cm31)"
   ]
  },
  {
   "cell_type": "code",
   "execution_count": null,
   "id": "7cd6aa83-fa73-453d-b23c-a04820fa4c9f",
   "metadata": {},
   "outputs": [],
   "source": [
    "import sklearn.neural_network \n",
    "neural_network = sklearn.neural_network.MLPClassifier(hidden_layer_sizes=(10, 10), activation='relu')\n",
    "neural_network.fit(X_train1, Y_train1) \n",
    "y_pred10 = neural_network.predict(X_test1)\n",
    "from sklearn.metrics import confusion_matrix,accuracy_score\n",
    "cm10 = confusion_matrix(Y_test1, y_pred10)\n",
    "from sklearn.metrics import roc_curve, auc\n",
    "fpr10, tpr10, thresholds10 = roc_curve(Y_test1,y_pred10)\n",
    "auc_score10=roc_auc_score(Y_test1, y_pred10)\n",
    "print(fpr10)\n",
    "print(tpr10)\n",
    "print(thresholds10)\n",
    "print(auc_score10)\n",
    "from sklearn.metrics import confusion_matrix,accuracy_score\n",
    "cm10 = confusion_matrix(Y_test1, y_pred10)\n",
    "print(cm10)"
   ]
  },
  {
   "cell_type": "code",
   "execution_count": null,
   "id": "71e5e691-2ad8-406e-a4b3-58c36d59091b",
   "metadata": {},
   "outputs": [],
   "source": [
    "import sklearn.svm \n",
    "# Create an instance of the SVC class \n",
    "svm = sklearn.svm.SVC(kernel='linear', C=1.0) \n",
    "# Fit the model to the training data \n",
    "svm.fit(X_train, Y_train) \n",
    "# Predict the labels of new data \n",
    "y_pred11 = svm.predict(X_test)\n",
    "fpr11, tpr11, thresholds11 = roc_curve(Y_test,y_pred11)\n",
    "auc_score11=roc_auc_score(Y_test, y_pred11)\n",
    "print(fpr11)\n",
    "print(tpr11)\n",
    "print(thresholds11)\n",
    "print(auc_score11)\n",
    "from sklearn.metrics import confusion_matrix,accuracy_score\n",
    "cm11 = confusion_matrix(Y_test, y_pred11)\n",
    "print(cm11)"
   ]
  },
  {
   "cell_type": "code",
   "execution_count": null,
   "id": "9d8df497-ecd5-4a8e-b2b7-c8cadf8914ca",
   "metadata": {},
   "outputs": [],
   "source": [
    "y_predproba10=neural_network.predict_proba(X_test1)\n",
    "false_positive_rate10, true_positive_rate10, thresholds10 = roc_curve(Y_test1, y_predproba10[:,1])\n",
    "df3 = pd.DataFrame({'Threshold': thresholds10, \n",
    "              'TPR': true_positive_rate10, \n",
    "              'FPR':false_positive_rate10\n",
    "             })\n",
    "df3.to_csv(\"roc10.csv\")\n",
    "plt.ylabel('True Positive Rate')\n",
    "plt.xlabel('False Positive Rate')\n",
    "plt.title('ROC')\n",
    "plt.plot(false_positive_rate10, true_positive_rate10)"
   ]
  },
  {
   "cell_type": "code",
   "execution_count": null,
   "id": "29bf8aac-5ca2-4aac-9e0d-4290b1fc60d9",
   "metadata": {},
   "outputs": [],
   "source": []
  }
 ],
 "metadata": {
  "kernelspec": {
   "display_name": "Python 3 (ipykernel)",
   "language": "python",
   "name": "python3"
  },
  "language_info": {
   "codemirror_mode": {
    "name": "ipython",
    "version": 3
   },
   "file_extension": ".py",
   "mimetype": "text/x-python",
   "name": "python",
   "nbconvert_exporter": "python",
   "pygments_lexer": "ipython3",
   "version": "3.12.0"
  }
 },
 "nbformat": 4,
 "nbformat_minor": 5
}
