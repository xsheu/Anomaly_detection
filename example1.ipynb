{
 "cells": [
  {
   "cell_type": "code",
   "execution_count": null,
   "id": "d3610bdf-acca-4832-8187-72da1d5d4607",
   "metadata": {},
   "outputs": [],
   "source": [
    "# Conformal Prediction Example1"
   ]
  },
  {
   "cell_type": "code",
   "execution_count": 1,
   "id": "011a1d12-1ce8-4783-9917-41c05e8319da",
   "metadata": {},
   "outputs": [],
   "source": [
    "import pandas as pd\n",
    "import numpy as np\n",
    "import seaborn as sns\n",
    "import matplotlib.pyplot as plt\n",
    "import sklearn\n",
    "from sklearn.model_selection import train_test_split\n",
    "from sklearn.naive_bayes import GaussianNB\n",
    "from sklearn.preprocessing import StandardScaler\n",
    "import openpyxl\n",
    "from sklearn.metrics import accuracy_score, confusion_matrix, roc_auc_score, roc_curve\n",
    "from sklearn.metrics import roc_curve, auc"
   ]
  },
  {
   "cell_type": "code",
   "execution_count": null,
   "id": "d97b596a-f73d-4ce6-b4d0-6ec16c207d57",
   "metadata": {},
   "outputs": [],
   "source": [
    "# Read input data"
   ]
  },
  {
   "cell_type": "code",
   "execution_count": 2,
   "id": "fae20318-66b4-4aca-9c5a-0c4966a4d9e2",
   "metadata": {},
   "outputs": [
    {
     "data": {
      "text/html": [
       "<div>\n",
       "<style scoped>\n",
       "    .dataframe tbody tr th:only-of-type {\n",
       "        vertical-align: middle;\n",
       "    }\n",
       "\n",
       "    .dataframe tbody tr th {\n",
       "        vertical-align: top;\n",
       "    }\n",
       "\n",
       "    .dataframe thead th {\n",
       "        text-align: right;\n",
       "    }\n",
       "</style>\n",
       "<table border=\"1\" class=\"dataframe\">\n",
       "  <thead>\n",
       "    <tr style=\"text-align: right;\">\n",
       "      <th></th>\n",
       "      <th>ROA</th>\n",
       "      <th>P/B</th>\n",
       "      <th>Class</th>\n",
       "    </tr>\n",
       "  </thead>\n",
       "  <tbody>\n",
       "    <tr>\n",
       "      <th>0</th>\n",
       "      <td>1.67</td>\n",
       "      <td>1.02</td>\n",
       "      <td>1</td>\n",
       "    </tr>\n",
       "    <tr>\n",
       "      <th>1</th>\n",
       "      <td>2.87</td>\n",
       "      <td>0.86</td>\n",
       "      <td>1</td>\n",
       "    </tr>\n",
       "    <tr>\n",
       "      <th>2</th>\n",
       "      <td>3.16</td>\n",
       "      <td>0.93</td>\n",
       "      <td>1</td>\n",
       "    </tr>\n",
       "    <tr>\n",
       "      <th>3</th>\n",
       "      <td>1.16</td>\n",
       "      <td>1.34</td>\n",
       "      <td>1</td>\n",
       "    </tr>\n",
       "    <tr>\n",
       "      <th>4</th>\n",
       "      <td>1.67</td>\n",
       "      <td>0.79</td>\n",
       "      <td>1</td>\n",
       "    </tr>\n",
       "  </tbody>\n",
       "</table>\n",
       "</div>"
      ],
      "text/plain": [
       "    ROA   P/B  Class\n",
       "0  1.67  1.02      1\n",
       "1  2.87  0.86      1\n",
       "2  3.16  0.93      1\n",
       "3  1.16  1.34      1\n",
       "4  1.67  0.79      1"
      ]
     },
     "execution_count": 2,
     "metadata": {},
     "output_type": "execute_result"
    }
   ],
   "source": [
    "data =  pd.read_csv('problem6.csv')\n",
    "data.head()"
   ]
  },
  {
   "cell_type": "code",
   "execution_count": null,
   "id": "bf7def43-07e9-4ccd-9864-0533ebed22e2",
   "metadata": {},
   "outputs": [],
   "source": [
    "# 驗證是否讀取正確"
   ]
  },
  {
   "cell_type": "code",
   "execution_count": 3,
   "id": "cfb2d614-28e0-4bd0-ae94-0e36754115ff",
   "metadata": {},
   "outputs": [
    {
     "data": {
      "text/html": [
       "<div>\n",
       "<style scoped>\n",
       "    .dataframe tbody tr th:only-of-type {\n",
       "        vertical-align: middle;\n",
       "    }\n",
       "\n",
       "    .dataframe tbody tr th {\n",
       "        vertical-align: top;\n",
       "    }\n",
       "\n",
       "    .dataframe thead th {\n",
       "        text-align: right;\n",
       "    }\n",
       "</style>\n",
       "<table border=\"1\" class=\"dataframe\">\n",
       "  <thead>\n",
       "    <tr style=\"text-align: right;\">\n",
       "      <th></th>\n",
       "      <th>ROA</th>\n",
       "      <th>P/B</th>\n",
       "      <th>Class</th>\n",
       "    </tr>\n",
       "  </thead>\n",
       "  <tbody>\n",
       "    <tr>\n",
       "      <th>count</th>\n",
       "      <td>1035.000000</td>\n",
       "      <td>1035.000000</td>\n",
       "      <td>1035.000000</td>\n",
       "    </tr>\n",
       "    <tr>\n",
       "      <th>mean</th>\n",
       "      <td>1.706000</td>\n",
       "      <td>2.226464</td>\n",
       "      <td>1.158454</td>\n",
       "    </tr>\n",
       "    <tr>\n",
       "      <th>std</th>\n",
       "      <td>2.299725</td>\n",
       "      <td>1.694491</td>\n",
       "      <td>0.365343</td>\n",
       "    </tr>\n",
       "    <tr>\n",
       "      <th>min</th>\n",
       "      <td>-7.440000</td>\n",
       "      <td>0.040000</td>\n",
       "      <td>1.000000</td>\n",
       "    </tr>\n",
       "    <tr>\n",
       "      <th>25%</th>\n",
       "      <td>0.475000</td>\n",
       "      <td>1.155000</td>\n",
       "      <td>1.000000</td>\n",
       "    </tr>\n",
       "    <tr>\n",
       "      <th>50%</th>\n",
       "      <td>1.570000</td>\n",
       "      <td>1.730000</td>\n",
       "      <td>1.000000</td>\n",
       "    </tr>\n",
       "    <tr>\n",
       "      <th>75%</th>\n",
       "      <td>2.800000</td>\n",
       "      <td>2.665000</td>\n",
       "      <td>1.000000</td>\n",
       "    </tr>\n",
       "    <tr>\n",
       "      <th>max</th>\n",
       "      <td>19.790000</td>\n",
       "      <td>15.200000</td>\n",
       "      <td>2.000000</td>\n",
       "    </tr>\n",
       "  </tbody>\n",
       "</table>\n",
       "</div>"
      ],
      "text/plain": [
       "               ROA          P/B        Class\n",
       "count  1035.000000  1035.000000  1035.000000\n",
       "mean      1.706000     2.226464     1.158454\n",
       "std       2.299725     1.694491     0.365343\n",
       "min      -7.440000     0.040000     1.000000\n",
       "25%       0.475000     1.155000     1.000000\n",
       "50%       1.570000     1.730000     1.000000\n",
       "75%       2.800000     2.665000     1.000000\n",
       "max      19.790000    15.200000     2.000000"
      ]
     },
     "execution_count": 3,
     "metadata": {},
     "output_type": "execute_result"
    }
   ],
   "source": [
    "data.describe()"
   ]
  },
  {
   "cell_type": "code",
   "execution_count": null,
   "id": "f48eb0f0-baa7-4c3a-b5b9-ba5a46846e02",
   "metadata": {},
   "outputs": [],
   "source": [
    "# 資料筆數"
   ]
  },
  {
   "cell_type": "code",
   "execution_count": 4,
   "id": "002ead68-4c68-4954-8b92-f82524fc5e75",
   "metadata": {},
   "outputs": [
    {
     "name": "stdout",
     "output_type": "stream",
     "text": [
      "1035\n"
     ]
    }
   ],
   "source": [
    "totalsample=data.shape[0]\n",
    "print(totalsample)"
   ]
  },
  {
   "cell_type": "code",
   "execution_count": null,
   "id": "6b3ecf0f-57c7-4999-99c7-da6b5fb11acf",
   "metadata": {},
   "outputs": [],
   "source": [
    "# 資料分割"
   ]
  },
  {
   "cell_type": "code",
   "execution_count": 5,
   "id": "6d3a38d5-d214-4ed3-a859-2b1f6e3fab13",
   "metadata": {},
   "outputs": [
    {
     "name": "stdout",
     "output_type": "stream",
     "text": [
      "<class 'numpy.ndarray'>\n"
     ]
    }
   ],
   "source": [
    "X = data.iloc[:,0:1].values\n",
    "print(type(X))\n",
    "Y = data['Class'].values\n",
    "X_train,X_test,Y_train,Y_test = train_test_split(X,Y,test_size = 0.25,random_state = 0)"
   ]
  },
  {
   "cell_type": "code",
   "execution_count": null,
   "id": "7fd10991-345d-41ce-9e9c-70242c912326",
   "metadata": {},
   "outputs": [],
   "source": [
    "# 資料正規化"
   ]
  },
  {
   "cell_type": "code",
   "execution_count": 6,
   "id": "2cbf4fb7-3f73-4c2a-8d36-955d5816db52",
   "metadata": {},
   "outputs": [],
   "source": [
    "stdscaler = StandardScaler()\n",
    "X_train = stdscaler.fit_transform(X_train)\n",
    "X_test = stdscaler.transform(X_test)"
   ]
  },
  {
   "cell_type": "code",
   "execution_count": null,
   "id": "3a7361ee-1a3d-403d-8f43-0e0bd5cd2928",
   "metadata": {},
   "outputs": [],
   "source": []
  }
 ],
 "metadata": {
  "kernelspec": {
   "display_name": "Python 3 (ipykernel)",
   "language": "python",
   "name": "python3"
  },
  "language_info": {
   "codemirror_mode": {
    "name": "ipython",
    "version": 3
   },
   "file_extension": ".py",
   "mimetype": "text/x-python",
   "name": "python",
   "nbconvert_exporter": "python",
   "pygments_lexer": "ipython3",
   "version": "3.12.0"
  }
 },
 "nbformat": 4,
 "nbformat_minor": 5
}
