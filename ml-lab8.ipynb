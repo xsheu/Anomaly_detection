{
 "cells": [
  {
   "cell_type": "code",
   "execution_count": 1,
   "id": "b38c70e1",
   "metadata": {
    "_cell_guid": "b1076dfc-b9ad-4769-8c92-a6c4dae69d19",
    "_uuid": "8f2839f25d086af736a60e9eeb907d3b93b6e0e5",
    "execution": {
     "iopub.execute_input": "2023-11-21T09:43:40.386179Z",
     "iopub.status.busy": "2023-11-21T09:43:40.385287Z",
     "iopub.status.idle": "2023-11-21T09:43:41.117757Z",
     "shell.execute_reply": "2023-11-21T09:43:41.115242Z"
    },
    "papermill": {
     "duration": 0.740386,
     "end_time": "2023-11-21T09:43:41.119873",
     "exception": false,
     "start_time": "2023-11-21T09:43:40.379487",
     "status": "completed"
    },
    "tags": []
   },
   "outputs": [
    {
     "name": "stdout",
     "output_type": "stream",
     "text": [
      "/kaggle/input/naive-bayes-classification-data/Naive-Bayes-Classification-Data.csv\n"
     ]
    }
   ],
   "source": [
    "# This Python 3 environment comes with many helpful analytics libraries installed\n",
    "# It is defined by the kaggle/python Docker image: https://github.com/kaggle/docker-python\n",
    "# For example, here's several helpful packages to load\n",
    "\n",
    "import numpy as np # linear algebra\n",
    "import pandas as pd # data processing, CSV file I/O (e.g. pd.read_csv)\n",
    "\n",
    "# Input data files are available in the read-only \"../input/\" directory\n",
    "# For example, running this (by clicking run or pressing Shift+Enter) will list all files under the input directory\n",
    "\n",
    "import os\n",
    "for dirname, _, filenames in os.walk('/kaggle/input'):\n",
    "    for filename in filenames:\n",
    "        print(os.path.join(dirname, filename))\n",
    "\n",
    "# You can write up to 20GB to the current directory (/kaggle/working/) that gets preserved as output when you create a version using \"Save & Run All\" \n",
    "# You can also write temporary files to /kaggle/temp/, but they won't be saved outside of the current session"
   ]
  },
  {
   "cell_type": "markdown",
   "id": "74408c23",
   "metadata": {
    "papermill": {
     "duration": 0.003522,
     "end_time": "2023-11-21T09:43:41.129137",
     "exception": false,
     "start_time": "2023-11-21T09:43:41.125615",
     "status": "completed"
    },
    "tags": []
   },
   "source": [
    "# Implement a single neural network and test for different logic gates"
   ]
  },
  {
   "cell_type": "code",
   "execution_count": 2,
   "id": "53668b39",
   "metadata": {
    "execution": {
     "iopub.execute_input": "2023-11-21T09:43:41.137996Z",
     "iopub.status.busy": "2023-11-21T09:43:41.137507Z",
     "iopub.status.idle": "2023-11-21T09:44:01.331794Z",
     "shell.execute_reply": "2023-11-21T09:44:01.330658Z"
    },
    "papermill": {
     "duration": 20.201127,
     "end_time": "2023-11-21T09:44:01.333891",
     "exception": false,
     "start_time": "2023-11-21T09:43:41.132764",
     "status": "completed"
    },
    "tags": []
   },
   "outputs": [
    {
     "name": "stdout",
     "output_type": "stream",
     "text": [
      "AND\n",
      "\n",
      "1/1 [==============================] - 0s 80ms/step\n",
      "Predictions:\n",
      "Input: [0. 0.], Predicted Output: 0.0937, Actual Output: 0.0\n",
      "Input: [0. 1.], Predicted Output: 0.3271, Actual Output: 0.0\n",
      "Input: [1. 0.], Predicted Output: 0.1200, Actual Output: 0.0\n",
      "Input: [1. 1.], Predicted Output: 0.8716, Actual Output: 1.0\n",
      "\n",
      "\n",
      "\n",
      "OR\n",
      "\n",
      "1/1 [==============================] - 0s 48ms/step\n",
      "Predictions:\n",
      "Input: [0. 0.], Predicted Output: 0.3062, Actual Output: 0.0\n",
      "Input: [0. 1.], Predicted Output: 0.9373, Actual Output: 1.0\n",
      "Input: [1. 0.], Predicted Output: 0.9358, Actual Output: 1.0\n",
      "Input: [1. 1.], Predicted Output: 0.9962, Actual Output: 1.0\n",
      "\n",
      "\n",
      "\n",
      "XOR\n",
      "\n",
      "1/1 [==============================] - 0s 48ms/step\n",
      "Predictions:\n",
      "Input: [0. 0.], Predicted Output: 0.2180, Actual Output: 0.0\n",
      "Input: [0. 1.], Predicted Output: 0.8071, Actual Output: 1.0\n",
      "Input: [1. 0.], Predicted Output: 0.8095, Actual Output: 1.0\n",
      "Input: [1. 1.], Predicted Output: 0.1898, Actual Output: 0.0\n",
      "\n",
      "\n",
      "\n"
     ]
    }
   ],
   "source": [
    "import tensorflow as tf\n",
    "import numpy as np\n",
    "for gate in ['AND',\"OR\",'XOR']: \n",
    "    print(gate)\n",
    "    print()\n",
    "    # Define the training data for different logic gates\n",
    "    if gate == \"AND\":\n",
    "        X = np.array([[0, 0], [0, 1], [1, 0], [1, 1]], dtype=float)\n",
    "        y = np.array([0, 0, 0, 1], dtype=float)\n",
    "    elif gate == \"OR\":\n",
    "        X = np.array([[0, 0], [0, 1], [1, 0], [1, 1]], dtype=float)\n",
    "        y = np.array([0, 1, 1, 1], dtype=float)\n",
    "    elif gate == \"XOR\":\n",
    "        X = np.array([[0, 0], [0, 1], [1, 0], [1, 1]], dtype=float)\n",
    "        y = np.array([0, 1, 1, 0], dtype=float)\n",
    "    else:\n",
    "        raise ValueError(\"Invalid gate type\")\n",
    "\n",
    "    # Define a simple neural network\n",
    "    model = tf.keras.Sequential([\n",
    "        tf.keras.layers.Input(shape=(2,)),         # Input layer with 2 neurons\n",
    "        tf.keras.layers.Dense(8, activation='relu'),  # Hidden layer with 2 neurons and sigmoid activation\n",
    "        tf.keras.layers.Dense(1, activation='sigmoid')   # Output layer with 1 neuron and sigmoid activation\n",
    "    ])\n",
    "\n",
    "    # Compile the model\n",
    "    model.compile(optimizer='adam', loss='mse', metrics=['accuracy'])\n",
    "\n",
    "    # Train the model\n",
    "    model.fit(X, y, epochs=1000, verbose=0)\n",
    "\n",
    "    # Test the model on the training data\n",
    "    predictions = model.predict(X)\n",
    "    print(\"Predictions:\")\n",
    "    for i in range(len(X)):\n",
    "        print(f\"Input: {X[i]}, Predicted Output: {predictions[i][0]:.4f}, Actual Output: {y[i]}\")\n",
    "    print('\\n\\n')"
   ]
  },
  {
   "cell_type": "markdown",
   "id": "28aefe4d",
   "metadata": {
    "papermill": {
     "duration": 0.004163,
     "end_time": "2023-11-21T09:44:01.342607",
     "exception": false,
     "start_time": "2023-11-21T09:44:01.338444",
     "status": "completed"
    },
    "tags": []
   },
   "source": [
    "# Wap to calculate the accuarcy , precision and recall for your dataset . Naiye bayes model."
   ]
  },
  {
   "cell_type": "code",
   "execution_count": 3,
   "id": "d33d3a99",
   "metadata": {
    "execution": {
     "iopub.execute_input": "2023-11-21T09:44:01.352626Z",
     "iopub.status.busy": "2023-11-21T09:44:01.352264Z",
     "iopub.status.idle": "2023-11-21T09:44:01.367342Z",
     "shell.execute_reply": "2023-11-21T09:44:01.366383Z"
    },
    "papermill": {
     "duration": 0.02248,
     "end_time": "2023-11-21T09:44:01.369292",
     "exception": false,
     "start_time": "2023-11-21T09:44:01.346812",
     "status": "completed"
    },
    "tags": []
   },
   "outputs": [
    {
     "data": {
      "text/plain": [
       "(995, 3)"
      ]
     },
     "execution_count": 3,
     "metadata": {},
     "output_type": "execute_result"
    }
   ],
   "source": [
    "df = pd.read_csv('/kaggle/input/naive-bayes-classification-data/Naive-Bayes-Classification-Data.csv')\n",
    "df.shape"
   ]
  },
  {
   "cell_type": "code",
   "execution_count": 4,
   "id": "b0b96b04",
   "metadata": {
    "execution": {
     "iopub.execute_input": "2023-11-21T09:44:01.379435Z",
     "iopub.status.busy": "2023-11-21T09:44:01.379111Z",
     "iopub.status.idle": "2023-11-21T09:44:01.394787Z",
     "shell.execute_reply": "2023-11-21T09:44:01.393806Z"
    },
    "papermill": {
     "duration": 0.022906,
     "end_time": "2023-11-21T09:44:01.396721",
     "exception": false,
     "start_time": "2023-11-21T09:44:01.373815",
     "status": "completed"
    },
    "tags": []
   },
   "outputs": [
    {
     "data": {
      "text/html": [
       "<div>\n",
       "<style scoped>\n",
       "    .dataframe tbody tr th:only-of-type {\n",
       "        vertical-align: middle;\n",
       "    }\n",
       "\n",
       "    .dataframe tbody tr th {\n",
       "        vertical-align: top;\n",
       "    }\n",
       "\n",
       "    .dataframe thead th {\n",
       "        text-align: right;\n",
       "    }\n",
       "</style>\n",
       "<table border=\"1\" class=\"dataframe\">\n",
       "  <thead>\n",
       "    <tr style=\"text-align: right;\">\n",
       "      <th></th>\n",
       "      <th>glucose</th>\n",
       "      <th>bloodpressure</th>\n",
       "      <th>diabetes</th>\n",
       "    </tr>\n",
       "  </thead>\n",
       "  <tbody>\n",
       "    <tr>\n",
       "      <th>0</th>\n",
       "      <td>40</td>\n",
       "      <td>85</td>\n",
       "      <td>0</td>\n",
       "    </tr>\n",
       "    <tr>\n",
       "      <th>1</th>\n",
       "      <td>40</td>\n",
       "      <td>92</td>\n",
       "      <td>0</td>\n",
       "    </tr>\n",
       "    <tr>\n",
       "      <th>2</th>\n",
       "      <td>45</td>\n",
       "      <td>63</td>\n",
       "      <td>1</td>\n",
       "    </tr>\n",
       "    <tr>\n",
       "      <th>3</th>\n",
       "      <td>45</td>\n",
       "      <td>80</td>\n",
       "      <td>0</td>\n",
       "    </tr>\n",
       "    <tr>\n",
       "      <th>4</th>\n",
       "      <td>40</td>\n",
       "      <td>73</td>\n",
       "      <td>1</td>\n",
       "    </tr>\n",
       "  </tbody>\n",
       "</table>\n",
       "</div>"
      ],
      "text/plain": [
       "   glucose  bloodpressure  diabetes\n",
       "0       40             85         0\n",
       "1       40             92         0\n",
       "2       45             63         1\n",
       "3       45             80         0\n",
       "4       40             73         1"
      ]
     },
     "execution_count": 4,
     "metadata": {},
     "output_type": "execute_result"
    }
   ],
   "source": [
    "df.head()"
   ]
  },
  {
   "cell_type": "code",
   "execution_count": 5,
   "id": "01c4d448",
   "metadata": {
    "execution": {
     "iopub.execute_input": "2023-11-21T09:44:01.407501Z",
     "iopub.status.busy": "2023-11-21T09:44:01.407168Z",
     "iopub.status.idle": "2023-11-21T09:44:01.415154Z",
     "shell.execute_reply": "2023-11-21T09:44:01.414066Z"
    },
    "papermill": {
     "duration": 0.015613,
     "end_time": "2023-11-21T09:44:01.417107",
     "exception": false,
     "start_time": "2023-11-21T09:44:01.401494",
     "status": "completed"
    },
    "tags": []
   },
   "outputs": [
    {
     "data": {
      "text/plain": [
       "glucose          0\n",
       "bloodpressure    0\n",
       "diabetes         0\n",
       "dtype: int64"
      ]
     },
     "execution_count": 5,
     "metadata": {},
     "output_type": "execute_result"
    }
   ],
   "source": [
    "df.isna().sum()"
   ]
  },
  {
   "cell_type": "code",
   "execution_count": 6,
   "id": "d84d4990",
   "metadata": {
    "execution": {
     "iopub.execute_input": "2023-11-21T09:44:01.427983Z",
     "iopub.status.busy": "2023-11-21T09:44:01.427607Z",
     "iopub.status.idle": "2023-11-21T09:44:01.446571Z",
     "shell.execute_reply": "2023-11-21T09:44:01.445591Z"
    },
    "papermill": {
     "duration": 0.026861,
     "end_time": "2023-11-21T09:44:01.448805",
     "exception": false,
     "start_time": "2023-11-21T09:44:01.421944",
     "status": "completed"
    },
    "tags": []
   },
   "outputs": [
    {
     "data": {
      "text/html": [
       "<div>\n",
       "<style scoped>\n",
       "    .dataframe tbody tr th:only-of-type {\n",
       "        vertical-align: middle;\n",
       "    }\n",
       "\n",
       "    .dataframe tbody tr th {\n",
       "        vertical-align: top;\n",
       "    }\n",
       "\n",
       "    .dataframe thead th {\n",
       "        text-align: right;\n",
       "    }\n",
       "</style>\n",
       "<table border=\"1\" class=\"dataframe\">\n",
       "  <thead>\n",
       "    <tr style=\"text-align: right;\">\n",
       "      <th></th>\n",
       "      <th>glucose</th>\n",
       "      <th>bloodpressure</th>\n",
       "      <th>diabetes</th>\n",
       "    </tr>\n",
       "  </thead>\n",
       "  <tbody>\n",
       "    <tr>\n",
       "      <th>count</th>\n",
       "      <td>995.000000</td>\n",
       "      <td>995.000000</td>\n",
       "      <td>995.000000</td>\n",
       "    </tr>\n",
       "    <tr>\n",
       "      <th>mean</th>\n",
       "      <td>44.306533</td>\n",
       "      <td>79.184925</td>\n",
       "      <td>0.500503</td>\n",
       "    </tr>\n",
       "    <tr>\n",
       "      <th>std</th>\n",
       "      <td>6.707567</td>\n",
       "      <td>9.340204</td>\n",
       "      <td>0.500251</td>\n",
       "    </tr>\n",
       "    <tr>\n",
       "      <th>min</th>\n",
       "      <td>20.000000</td>\n",
       "      <td>50.000000</td>\n",
       "      <td>0.000000</td>\n",
       "    </tr>\n",
       "    <tr>\n",
       "      <th>25%</th>\n",
       "      <td>40.000000</td>\n",
       "      <td>72.000000</td>\n",
       "      <td>0.000000</td>\n",
       "    </tr>\n",
       "    <tr>\n",
       "      <th>50%</th>\n",
       "      <td>45.000000</td>\n",
       "      <td>80.000000</td>\n",
       "      <td>1.000000</td>\n",
       "    </tr>\n",
       "    <tr>\n",
       "      <th>75%</th>\n",
       "      <td>50.000000</td>\n",
       "      <td>87.000000</td>\n",
       "      <td>1.000000</td>\n",
       "    </tr>\n",
       "    <tr>\n",
       "      <th>max</th>\n",
       "      <td>70.000000</td>\n",
       "      <td>100.000000</td>\n",
       "      <td>1.000000</td>\n",
       "    </tr>\n",
       "  </tbody>\n",
       "</table>\n",
       "</div>"
      ],
      "text/plain": [
       "          glucose  bloodpressure    diabetes\n",
       "count  995.000000     995.000000  995.000000\n",
       "mean    44.306533      79.184925    0.500503\n",
       "std      6.707567       9.340204    0.500251\n",
       "min     20.000000      50.000000    0.000000\n",
       "25%     40.000000      72.000000    0.000000\n",
       "50%     45.000000      80.000000    1.000000\n",
       "75%     50.000000      87.000000    1.000000\n",
       "max     70.000000     100.000000    1.000000"
      ]
     },
     "execution_count": 6,
     "metadata": {},
     "output_type": "execute_result"
    }
   ],
   "source": [
    "df.describe()"
   ]
  },
  {
   "cell_type": "code",
   "execution_count": 7,
   "id": "4c502d42",
   "metadata": {
    "execution": {
     "iopub.execute_input": "2023-11-21T09:44:01.460352Z",
     "iopub.status.busy": "2023-11-21T09:44:01.460015Z",
     "iopub.status.idle": "2023-11-21T09:44:02.904513Z",
     "shell.execute_reply": "2023-11-21T09:44:02.903367Z"
    },
    "papermill": {
     "duration": 1.45284,
     "end_time": "2023-11-21T09:44:02.906739",
     "exception": false,
     "start_time": "2023-11-21T09:44:01.453899",
     "status": "completed"
    },
    "tags": []
   },
   "outputs": [
    {
     "data": {
      "text/plain": [
       "<Axes: >"
      ]
     },
     "execution_count": 7,
     "metadata": {},
     "output_type": "execute_result"
    },
    {
     "data": {
      "image/png": "[encoded data removed]",
      "text/plain": [
       "<Figure size 640x480 with 2 Axes>"
      ]
     },
     "metadata": {},
     "output_type": "display_data"
    }
   ],
   "source": [
    "import seaborn as sns\n",
    "sns.heatmap(df.corr(),annot=True,cmap='mako')"
   ]
  },
  {
   "cell_type": "code",
   "execution_count": 8,
   "id": "e3017e37",
   "metadata": {
    "execution": {
     "iopub.execute_input": "2023-11-21T09:44:02.919445Z",
     "iopub.status.busy": "2023-11-21T09:44:02.918930Z",
     "iopub.status.idle": "2023-11-21T09:44:03.134596Z",
     "shell.execute_reply": "2023-11-21T09:44:03.133807Z"
    },
    "papermill": {
     "duration": 0.224678,
     "end_time": "2023-11-21T09:44:03.136993",
     "exception": false,
     "start_time": "2023-11-21T09:44:02.912315",
     "status": "completed"
    },
    "tags": []
   },
   "outputs": [],
   "source": [
    "X = df.drop(['diabetes'],axis=1)\n",
    "y = df['diabetes']\n",
    "from sklearn.model_selection import train_test_split\n",
    "X_train,X_test,y_train,y_test = train_test_split(X,y,test_size=0.2)"
   ]
  },
  {
   "cell_type": "code",
   "execution_count": 9,
   "id": "a10ce3dc",
   "metadata": {
    "execution": {
     "iopub.execute_input": "2023-11-21T09:44:03.150358Z",
     "iopub.status.busy": "2023-11-21T09:44:03.149742Z",
     "iopub.status.idle": "2023-11-21T09:44:03.172433Z",
     "shell.execute_reply": "2023-11-21T09:44:03.171375Z"
    },
    "papermill": {
     "duration": 0.031378,
     "end_time": "2023-11-21T09:44:03.174462",
     "exception": false,
     "start_time": "2023-11-21T09:44:03.143084",
     "status": "completed"
    },
    "tags": []
   },
   "outputs": [
    {
     "data": {
      "text/html": [
       "<style>#sk-container-id-1 {color: black;background-color: white;}#sk-container-id-1 pre{padding: 0;}#sk-container-id-1 div.sk-toggleable {background-color: white;}#sk-container-id-1 label.sk-toggleable__label {cursor: pointer;display: block;width: 100%;margin-bottom: 0;padding: 0.3em;box-sizing: border-box;text-align: center;}#sk-container-id-1 label.sk-toggleable__label-arrow:before {content: \"▸\";float: left;margin-right: 0.25em;color: #696969;}#sk-container-id-1 label.sk-toggleable__label-arrow:hover:before {color: black;}#sk-container-id-1 div.sk-estimator:hover label.sk-toggleable__label-arrow:before {color: black;}#sk-container-id-1 div.sk-toggleable__content {max-height: 0;max-width: 0;overflow: hidden;text-align: left;background-color: #f0f8ff;}#sk-container-id-1 div.sk-toggleable__content pre {margin: 0.2em;color: black;border-radius: 0.25em;background-color: #f0f8ff;}#sk-container-id-1 input.sk-toggleable__control:checked~div.sk-toggleable__content {max-height: 200px;max-width: 100%;overflow: auto;}#sk-container-id-1 input.sk-toggleable__control:checked~label.sk-toggleable__label-arrow:before {content: \"▾\";}#sk-container-id-1 div.sk-estimator input.sk-toggleable__control:checked~label.sk-toggleable__label {background-color: #d4ebff;}#sk-container-id-1 div.sk-label input.sk-toggleable__control:checked~label.sk-toggleable__label {background-color: #d4ebff;}#sk-container-id-1 input.sk-hidden--visually {border: 0;clip: rect(1px 1px 1px 1px);clip: rect(1px, 1px, 1px, 1px);height: 1px;margin: -1px;overflow: hidden;padding: 0;position: absolute;width: 1px;}#sk-container-id-1 div.sk-estimator {font-family: monospace;background-color: #f0f8ff;border: 1px dotted black;border-radius: 0.25em;box-sizing: border-box;margin-bottom: 0.5em;}#sk-container-id-1 div.sk-estimator:hover {background-color: #d4ebff;}#sk-container-id-1 div.sk-parallel-item::after {content: \"\";width: 100%;border-bottom: 1px solid gray;flex-grow: 1;}#sk-container-id-1 div.sk-label:hover label.sk-toggleable__label {background-color: #d4ebff;}#sk-container-id-1 div.sk-serial::before {content: \"\";position: absolute;border-left: 1px solid gray;box-sizing: border-box;top: 0;bottom: 0;left: 50%;z-index: 0;}#sk-container-id-1 div.sk-serial {display: flex;flex-direction: column;align-items: center;background-color: white;padding-right: 0.2em;padding-left: 0.2em;position: relative;}#sk-container-id-1 div.sk-item {position: relative;z-index: 1;}#sk-container-id-1 div.sk-parallel {display: flex;align-items: stretch;justify-content: center;background-color: white;position: relative;}#sk-container-id-1 div.sk-item::before, #sk-container-id-1 div.sk-parallel-item::before {content: \"\";position: absolute;border-left: 1px solid gray;box-sizing: border-box;top: 0;bottom: 0;left: 50%;z-index: -1;}#sk-container-id-1 div.sk-parallel-item {display: flex;flex-direction: column;z-index: 1;position: relative;background-color: white;}#sk-container-id-1 div.sk-parallel-item:first-child::after {align-self: flex-end;width: 50%;}#sk-container-id-1 div.sk-parallel-item:last-child::after {align-self: flex-start;width: 50%;}#sk-container-id-1 div.sk-parallel-item:only-child::after {width: 0;}#sk-container-id-1 div.sk-dashed-wrapped {border: 1px dashed gray;margin: 0 0.4em 0.5em 0.4em;box-sizing: border-box;padding-bottom: 0.4em;background-color: white;}#sk-container-id-1 div.sk-label label {font-family: monospace;font-weight: bold;display: inline-block;line-height: 1.2em;}#sk-container-id-1 div.sk-label-container {text-align: center;}#sk-container-id-1 div.sk-container {/* jupyter's `normalize.less` sets `[hidden] { display: none; }` but bootstrap.min.css set `[hidden] { display: none !important; }` so we also need the `!important` here to be able to override the default hidden behavior on the sphinx rendered scikit-learn.org. See: https://github.com/scikit-learn/scikit-learn/issues/21755 */display: inline-block !important;position: relative;}#sk-container-id-1 div.sk-text-repr-fallback {display: none;}</style><div id=\"sk-container-id-1\" class=\"sk-top-container\"><div class=\"sk-text-repr-fallback\"><pre>GaussianNB()</pre><b>In a Jupyter environment, please rerun this cell to show the HTML representation or trust the notebook. <br />On GitHub, the HTML representation is unable to render, please try loading this page with nbviewer.org.</b></div><div class=\"sk-container\" hidden><div class=\"sk-item\"><div class=\"sk-estimator sk-toggleable\"><input class=\"sk-toggleable__control sk-hidden--visually\" id=\"sk-estimator-id-1\" type=\"checkbox\" checked><label for=\"sk-estimator-id-1\" class=\"sk-toggleable__label sk-toggleable__label-arrow\">GaussianNB</label><div class=\"sk-toggleable__content\"><pre>GaussianNB()</pre></div></div></div></div></div>"
      ],
      "text/plain": [
       "GaussianNB()"
      ]
     },
     "execution_count": 9,
     "metadata": {},
     "output_type": "execute_result"
    }
   ],
   "source": [
    "from sklearn.naive_bayes import GaussianNB\n",
    "model = GaussianNB()\n",
    "model.fit(X_train,y_train)"
   ]
  },
  {
   "cell_type": "code",
   "execution_count": 10,
   "id": "b8585418",
   "metadata": {
    "execution": {
     "iopub.execute_input": "2023-11-21T09:44:03.187494Z",
     "iopub.status.busy": "2023-11-21T09:44:03.186926Z",
     "iopub.status.idle": "2023-11-21T09:44:03.200649Z",
     "shell.execute_reply": "2023-11-21T09:44:03.199739Z"
    },
    "papermill": {
     "duration": 0.022472,
     "end_time": "2023-11-21T09:44:03.202715",
     "exception": false,
     "start_time": "2023-11-21T09:44:03.180243",
     "status": "completed"
    },
    "tags": []
   },
   "outputs": [
    {
     "name": "stdout",
     "output_type": "stream",
     "text": [
      "Classification Report\n",
      "\n",
      "               precision    recall  f1-score   support\n",
      "\n",
      "           0       0.93      0.92      0.93       105\n",
      "           1       0.92      0.93      0.92        94\n",
      "\n",
      "    accuracy                           0.92       199\n",
      "   macro avg       0.92      0.92      0.92       199\n",
      "weighted avg       0.92      0.92      0.92       199\n",
      "\n"
     ]
    }
   ],
   "source": [
    "from sklearn.metrics import classification_report,confusion_matrix\n",
    "y_pred = model.predict(X_test)\n",
    "print(\"Classification Report\\n\\n\",classification_report(y_test,y_pred))"
   ]
  },
  {
   "cell_type": "code",
   "execution_count": 11,
   "id": "171041c3",
   "metadata": {
    "execution": {
     "iopub.execute_input": "2023-11-21T09:44:03.216065Z",
     "iopub.status.busy": "2023-11-21T09:44:03.215746Z",
     "iopub.status.idle": "2023-11-21T09:44:03.403417Z",
     "shell.execute_reply": "2023-11-21T09:44:03.402195Z"
    },
    "papermill": {
     "duration": 0.197179,
     "end_time": "2023-11-21T09:44:03.406227",
     "exception": false,
     "start_time": "2023-11-21T09:44:03.209048",
     "status": "completed"
    },
    "tags": []
   },
   "outputs": [
    {
     "data": {
      "image/png": "[encoded data removed]",
      "text/plain": [
       "<Figure size 500x300 with 1 Axes>"
      ]
     },
     "metadata": {},
     "output_type": "display_data"
    },
    {
     "name": "stdout",
     "output_type": "stream",
     "text": [
      "Correct : 92.46231155778895 %\n",
      "Wrong : 7.537688442211055 %\n"
     ]
    }
   ],
   "source": [
    "import matplotlib.pyplot as plt\n",
    "arr = confusion_matrix(y_test,y_pred)\n",
    "c = (arr[0][0]+arr[1][1])/X_test.shape[0]*100\n",
    "n = (arr[0][1]+arr[1][0])/X_test.shape[0]*100\n",
    "plt.figure(figsize=(5,3))\n",
    "plt.bar(['Correct','Wrong'],[c,n],color=['green','orange'])\n",
    "plt.title('Correct vs Wrong')\n",
    "plt.ylabel('Percentage')\n",
    "plt.ylim(0,100)\n",
    "plt.show()\n",
    "print('Correct :',c,'%')\n",
    "print('Wrong :',n,'%')"
   ]
  },
  {
   "cell_type": "code",
   "execution_count": 12,
   "id": "b73ba9e1",
   "metadata": {
    "execution": {
     "iopub.execute_input": "2023-11-21T09:44:03.420494Z",
     "iopub.status.busy": "2023-11-21T09:44:03.419782Z",
     "iopub.status.idle": "2023-11-21T09:44:03.697310Z",
     "shell.execute_reply": "2023-11-21T09:44:03.696432Z"
    },
    "papermill": {
     "duration": 0.287137,
     "end_time": "2023-11-21T09:44:03.699671",
     "exception": false,
     "start_time": "2023-11-21T09:44:03.412534",
     "status": "completed"
    },
    "tags": []
   },
   "outputs": [
    {
     "data": {
      "text/plain": [
       "<Axes: >"
      ]
     },
     "execution_count": 12,
     "metadata": {},
     "output_type": "execute_result"
    },
    {
     "data": {
      "image/png": "[encoded data removed]",
      "text/plain": [
       "<Figure size 640x480 with 2 Axes>"
      ]
     },
     "metadata": {},
     "output_type": "display_data"
    }
   ],
   "source": [
    "import seaborn as sns\n",
    "sns.heatmap(confusion_matrix(y_test,y_pred),annot=True,cmap='mako')"
   ]
  }
 ],
 "metadata": {
  "kaggle": {
   "accelerator": "none",
   "dataSources": [
    {
     "datasetId": 2376070,
     "sourceId": 4006843,
     "sourceType": "datasetVersion"
    }
   ],
   "dockerImageVersionId": 30558,
   "isGpuEnabled": false,
   "isInternetEnabled": true,
   "language": "python",
   "sourceType": "notebook"
  },
  "kernelspec": {
   "display_name": "Python 3",
   "language": "python",
   "name": "python3"
  },
  "language_info": {
   "codemirror_mode": {
    "name": "ipython",
    "version": 3
   },
   "file_extension": ".py",
   "mimetype": "text/x-python",
   "name": "python",
   "nbconvert_exporter": "python",
   "pygments_lexer": "ipython3",
   "version": "3.10.12"
  },
  "papermill": {
   "default_parameters": {},
   "duration": 28.355374,
   "end_time": "2023-11-21T09:44:05.230647",
   "environment_variables": {},
   "exception": null,
   "input_path": "__notebook__.ipynb",
   "output_path": "__notebook__.ipynb",
   "parameters": {},
   "start_time": "2023-11-21T09:43:36.875273",
   "version": "2.4.0"
  }
 },
 "nbformat": 4,
 "nbformat_minor": 5
}
